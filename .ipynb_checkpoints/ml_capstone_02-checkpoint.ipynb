{
 "cells": [
  {
   "cell_type": "markdown",
   "id": "bdf36101",
   "metadata": {},
   "source": [
    "# Date-a-Scientist\n",
    "### _ML Capstone Project_\n",
    "***"
   ]
  },
  {
   "cell_type": "markdown",
   "id": "b5c3a3cf",
   "metadata": {},
   "source": [
    "An analysis of data from an online dating site, [OKCupid](https://www.okcupid.com/)."
   ]
  },
  {
   "cell_type": "code",
   "execution_count": 1,
   "id": "e1da8dea",
   "metadata": {},
   "outputs": [],
   "source": [
    "import pandas as pd\n",
    "import numpy as np\n",
    "from matplotlib import pyplot as plt\n",
    "from matplotlib.ticker import FormatStrFormatter"
   ]
  },
  {
   "cell_type": "markdown",
   "id": "1555d580",
   "metadata": {},
   "source": [
    "Get data"
   ]
  },
  {
   "cell_type": "code",
   "execution_count": 2,
   "id": "d9859ab9",
   "metadata": {},
   "outputs": [],
   "source": [
    "df = pd.read_csv('profiles.csv')\n",
    "columns = df.columns\n",
    "dtypes = df.dtypes"
   ]
  },
  {
   "cell_type": "code",
   "execution_count": 3,
   "id": "c886daaf",
   "metadata": {},
   "outputs": [
    {
     "data": {
      "text/plain": [
       "Index(['age', 'body_type', 'diet', 'drinks', 'drugs', 'education', 'essay0',\n",
       "       'essay1', 'essay2', 'essay3', 'essay4', 'essay5', 'essay6', 'essay7',\n",
       "       'essay8', 'essay9', 'ethnicity', 'height', 'income', 'job',\n",
       "       'last_online', 'location', 'offspring', 'orientation', 'pets',\n",
       "       'religion', 'sex', 'sign', 'smokes', 'speaks', 'status'],\n",
       "      dtype='object')"
      ]
     },
     "execution_count": 3,
     "metadata": {},
     "output_type": "execute_result"
    }
   ],
   "source": [
    "columns"
   ]
  },
  {
   "cell_type": "code",
   "execution_count": 4,
   "id": "b5c6dc9e",
   "metadata": {},
   "outputs": [],
   "source": [
    "# Let's make a PDF of columns and sample values.\n",
    "# lines = []\n",
    "# for column in columns:\n",
    "#     newline = ''\n",
    "#     newline = newline.join(column + '\\n')\n",
    "#     lines.append(newline)\n",
    "#     for each in list(df[column])[:5]:\n",
    "#         lines.append(str(each) + '\\n')\n",
    "#     lines.append('**********\\n')\n",
    "#     lines.append('\\n')\n",
    "# f = open('sample_answers.txt', 'w')\n",
    "# f.writelines(lines)\n",
    "# f.close()"
   ]
  },
  {
   "cell_type": "code",
   "execution_count": 40,
   "id": "c2045014",
   "metadata": {},
   "outputs": [],
   "source": [
    "ages = df['age'].values.tolist()\n",
    "ages_unique = list(set(ages))\n",
    "ages_counts = []\n",
    "for age in ages_unique:\n",
    "    ages_counts.append(ages.count(age))\n",
    "\n",
    "X, y = np.array(ages_unique[:-2]), np.array(ages_counts[:-2])"
   ]
  },
  {
   "cell_type": "code",
   "execution_count": 41,
   "id": "d252b30a",
   "metadata": {},
   "outputs": [],
   "source": [
    "smokes_df = df.smokes.value_counts()\n",
    "vals = smokes_df.index.values.tolist()\n",
    "vals[1:3] = ['some', 'w drink']\n",
    "heights = smokes_df.tolist()"
   ]
  },
  {
   "cell_type": "code",
   "execution_count": 75,
   "id": "509c6061",
   "metadata": {},
   "outputs": [],
   "source": [
    "drinks_df = df.drinks.value_counts()\n",
    "vals_dr = drinks_df.index.values.tolist()\n",
    "heights_dr = drinks_df.tolist()\n",
    "freq = [3,1,0,2,4,5]\n",
    "vals_drp = [vals_dr[x] for x in freq]\n",
    "vals_drp[0], vals_drp[4:6] = 'none', ['more', 'desperate']\n",
    "heights_drp = [heights_dr[x] for x in freq]"
   ]
  },
  {
   "cell_type": "code",
   "execution_count": 41,
   "id": "49c27d56",
   "metadata": {},
   "outputs": [],
   "source": [
    "smokes_df = df.smokes.value_counts()\n",
    "vals = smokes_df.index.values.tolist()\n",
    "vals[1:3] = ['some', 'w drink']\n",
    "heights = smokes_df.tolist()"
   ]
  },
  {
   "cell_type": "code",
   "execution_count": 76,
   "id": "040a14e4",
   "metadata": {},
   "outputs": [],
   "source": [
    "drugs_df = df.drugs.value_counts()\n",
    "vals_dg = drugs_df.index.values.tolist()\n",
    "heights_dg = drugs_df.tolist()"
   ]
  },
  {
   "cell_type": "code",
   "execution_count": 41,
   "id": "fc36b1ab",
   "metadata": {},
   "outputs": [],
   "source": [
    "smokes_df = df.smokes.value_counts()\n",
    "vals = smokes_df.index.values.tolist()\n",
    "vals[1:3] = ['some', 'w drink']\n",
    "heights = smokes_df.tolist()"
   ]
  },
  {
   "cell_type": "code",
   "execution_count": 79,
   "id": "bbfa3b8f",
   "metadata": {},
   "outputs": [
    {
     "data": {
      "text/plain": [
       "Text(0.5, 0.98, 'Who is Using the Site?')"
      ]
     },
     "execution_count": 79,
     "metadata": {},
     "output_type": "execute_result"
    },
    {
     "data": {
      "image/png": "[encoded data removed]",
      "text/plain": [
       "<Figure size 720x504 with 4 Axes>"
      ]
     },
     "metadata": {
      "needs_background": "light"
     },
     "output_type": "display_data"
    }
   ],
   "source": [
    "fig, ((ax11, ax12), (ax21, ax22)) = plt.subplots(2, 2, figsize=(10, 7))\n",
    "plt.subplots_adjust(left=0.125,\n",
    "                    bottom=0.1, \n",
    "                    right=0.9, \n",
    "                    top=0.9, \n",
    "                    wspace=0.2, \n",
    "                    hspace=0.35)\n",
    "\n",
    "# age\n",
    "ax11.plot(X, y)\n",
    "minor_ticks11 = [X[y.argmax()]]\n",
    "ax11.set_xticks(minor_ticks11, minor=True)\n",
    "ax11.xaxis.set_minor_formatter(FormatStrFormatter(\"%d\"))\n",
    "ax11.xaxis.grid(True, which='minor')\n",
    "ax11.get_xticklabels(minor=True)[0].set_color('red')\n",
    "ax11.set_xlabel('Age')\n",
    "\n",
    "# smoker status\n",
    "ax12.bar(vals, heights)\n",
    "yesses = [smokes_df['yes']]\n",
    "ax12.yaxis.set_ticks([0, 10000, 20000, 30000, 40000])\n",
    "ax12.set_yticklabels(['', 10000, 20000, 30000, 40000])\n",
    "ax12.set_yticks(yesses, minor=True)\n",
    "ax12.yaxis.set_minor_formatter(FormatStrFormatter(\"%d\"))\n",
    "ax12.yaxis.grid(True, which='minor')\n",
    "ax12.get_yticklabels(minor=True)[0].set_color('red')\n",
    "ax12.set_xlabel('Smokes')\n",
    "\n",
    "# drink frequency\n",
    "ax21.bar(vals_drp, heights_drp)\n",
    "oftens = [drinks_df['often']]\n",
    "ax21.set_yticks(oftens, minor=True)\n",
    "ax21.yaxis.set_minor_formatter(FormatStrFormatter(\"%d\"))\n",
    "ax21.yaxis.grid(True, which='minor')\n",
    "ax21.get_yticklabels(minor=True)[0].set_color('red')\n",
    "ax21.set_xlabel('Drinks')\n",
    "\n",
    "#drugs\n",
    "ax22.bar(vals_dg, heights_dg, width=0.4)\n",
    "ax22.set_ylim(0, 43500) \n",
    "ax22.set_xlabel('Drugs')\n",
    "\n",
    "fig.suptitle('Who is Using the Site?')"
   ]
  },
  {
   "cell_type": "code",
   "execution_count": null,
   "id": "879e12c3",
   "metadata": {},
   "outputs": [],
   "source": []
  }
 ],
 "metadata": {
  "kernelspec": {
   "display_name": "Python 3 (ipykernel)",
   "language": "python",
   "name": "python3"
  },
  "language_info": {
   "codemirror_mode": {
    "name": "ipython",
    "version": 3
   },
   "file_extension": ".py",
   "mimetype": "text/x-python",
   "name": "python",
   "nbconvert_exporter": "python",
   "pygments_lexer": "ipython3",
   "version": "3.9.9"
  }
 },
 "nbformat": 4,
 "nbformat_minor": 5
}
