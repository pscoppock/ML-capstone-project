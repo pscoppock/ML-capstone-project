{
 "cells": [
  {
   "cell_type": "markdown",
   "id": "bdf36101",
   "metadata": {},
   "source": [
    "# Date-a-Scientist\n",
    "### _ML Capstone Project_\n",
    "***"
   ]
  },
  {
   "cell_type": "markdown",
   "id": "b5c3a3cf",
   "metadata": {},
   "source": [
    "An analysis of data from an online dating site, [OKCupid](https://www.okcupid.com/)."
   ]
  },
  {
   "cell_type": "code",
   "execution_count": 1,
   "id": "e1da8dea",
   "metadata": {},
   "outputs": [],
   "source": [
    "import pandas as pd\n",
    "import numpy as np\n",
    "from matplotlib import pyplot as plt\n",
    "from matplotlib.ticker import FormatStrFormatter"
   ]
  },
  {
   "cell_type": "markdown",
   "id": "1555d580",
   "metadata": {},
   "source": [
    "Get data"
   ]
  },
  {
   "cell_type": "code",
   "execution_count": 2,
   "id": "d9859ab9",
   "metadata": {},
   "outputs": [],
   "source": [
    "df = pd.read_csv('profiles.csv')\n",
    "columns = df.columns\n",
    "dtypes = df.dtypes"
   ]
  },
  {
   "cell_type": "code",
   "execution_count": 3,
   "id": "c886daaf",
   "metadata": {},
   "outputs": [
    {
     "data": {
      "text/plain": [
       "Index(['age', 'body_type', 'diet', 'drinks', 'drugs', 'education', 'essay0',\n",
       "       'essay1', 'essay2', 'essay3', 'essay4', 'essay5', 'essay6', 'essay7',\n",
       "       'essay8', 'essay9', 'ethnicity', 'height', 'income', 'job',\n",
       "       'last_online', 'location', 'offspring', 'orientation', 'pets',\n",
       "       'religion', 'sex', 'sign', 'smokes', 'speaks', 'status'],\n",
       "      dtype='object')"
      ]
     },
     "execution_count": 3,
     "metadata": {},
     "output_type": "execute_result"
    }
   ],
   "source": [
    "columns"
   ]
  },
  {
   "cell_type": "code",
   "execution_count": 4,
   "id": "b5c6dc9e",
   "metadata": {},
   "outputs": [],
   "source": [
    "# Let's make a PDF of columns and sample values.\n",
    "# lines = []\n",
    "# for column in columns:\n",
    "#     newline = ''\n",
    "#     newline = newline.join(column + '\\n')\n",
    "#     lines.append(newline)\n",
    "#     for each in list(df[column])[:5]:\n",
    "#         lines.append(str(each) + '\\n')\n",
    "#     lines.append('**********\\n')\n",
    "#     lines.append('\\n')\n",
    "# f = open('sample_answers.txt', 'w')\n",
    "# f.writelines(lines)\n",
    "# f.close()"
   ]
  },
  {
   "cell_type": "code",
   "execution_count": 5,
   "id": "c2045014",
   "metadata": {},
   "outputs": [],
   "source": [
    "ages = df['age'].values.tolist()\n",
    "ages_unique = list(set(ages))\n",
    "ages_counts = []\n",
    "for age in ages_unique:\n",
    "    ages_counts.append(ages.count(age))\n",
    "\n",
    "X, y = np.array(ages_unique[:-2]), np.array(ages_counts[:-2])"
   ]
  },
  {
   "cell_type": "code",
   "execution_count": 6,
   "id": "d252b30a",
   "metadata": {},
   "outputs": [],
   "source": [
    "smokes_df = df.smokes.value_counts()\n",
    "vals = smokes_df.index.values.tolist()\n",
    "vals[1:3] = ['some', 'w drink']\n",
    "heights = smokes_df.tolist()"
   ]
  },
  {
   "cell_type": "code",
   "execution_count": 7,
   "id": "509c6061",
   "metadata": {},
   "outputs": [],
   "source": [
    "drinks_df = df.drinks.value_counts()\n",
    "vals_dr = drinks_df.index.values.tolist()\n",
    "heights_dr = drinks_df.tolist()\n",
    "freq = [3,1,0,2,4,5]\n",
    "vals_drp = [vals_dr[x] for x in freq]\n",
    "vals_drp[0], vals_drp[4:6] = 'none', ['more', 'desperate']\n",
    "heights_drp = [heights_dr[x] for x in freq]"
   ]
  },
  {
   "cell_type": "code",
   "execution_count": 8,
   "id": "49c27d56",
   "metadata": {},
   "outputs": [],
   "source": [
    "smokes_df = df.smokes.value_counts()\n",
    "vals = smokes_df.index.values.tolist()\n",
    "vals[1:3] = ['some', 'w drink']\n",
    "heights = smokes_df.tolist()"
   ]
  },
  {
   "cell_type": "code",
   "execution_count": 9,
   "id": "040a14e4",
   "metadata": {},
   "outputs": [],
   "source": [
    "drugs_df = df.drugs.value_counts()\n",
    "vals_dg = drugs_df.index.values.tolist()\n",
    "heights_dg = drugs_df.tolist()"
   ]
  },
  {
   "cell_type": "code",
   "execution_count": 10,
   "id": "fc36b1ab",
   "metadata": {},
   "outputs": [],
   "source": [
    "smokes_df = df.smokes.value_counts()\n",
    "vals = smokes_df.index.values.tolist()\n",
    "vals[1:3] = ['some', 'w drink']\n",
    "heights = smokes_df.tolist()"
   ]
  },
  {
   "cell_type": "code",
   "execution_count": 11,
   "id": "bbfa3b8f",
   "metadata": {},
   "outputs": [
    {
     "data": {
      "text/plain": [
       "Text(0.5, 0.98, 'Who is Using the Site?')"
      ]
     },
     "execution_count": 11,
     "metadata": {},
     "output_type": "execute_result"
    },
    {
     "data": {
      "image/png": "[encoded data removed]",
      "text/plain": [
       "<Figure size 720x504 with 4 Axes>"
      ]
     },
     "metadata": {
      "needs_background": "light"
     },
     "output_type": "display_data"
    }
   ],
   "source": [
    "fig, ((ax11, ax12), (ax21, ax22)) = plt.subplots(2, 2, figsize=(10, 7))\n",
    "plt.subplots_adjust(left=0.125,\n",
    "                    bottom=0.1, \n",
    "                    right=0.9, \n",
    "                    top=0.9, \n",
    "                    wspace=0.2, \n",
    "                    hspace=0.35)\n",
    "\n",
    "# age\n",
    "ax11.plot(X, y)\n",
    "minor_ticks11 = [X[y.argmax()]]\n",
    "ax11.set_xticks(minor_ticks11, minor=True)\n",
    "ax11.xaxis.set_minor_formatter(FormatStrFormatter(\"%d\"))\n",
    "ax11.xaxis.grid(True, which='minor')\n",
    "ax11.get_xticklabels(minor=True)[0].set_color('red')\n",
    "ax11.set_xlabel('Age')\n",
    "\n",
    "# smoker status\n",
    "ax12.bar(vals, heights)\n",
    "yesses = [smokes_df['yes']]\n",
    "ax12.yaxis.set_ticks([0, 10000, 20000, 30000, 40000])\n",
    "ax12.set_yticklabels(['', 10000, 20000, 30000, 40000])\n",
    "ax12.set_yticks(yesses, minor=True)\n",
    "ax12.yaxis.set_minor_formatter(FormatStrFormatter(\"%d\"))\n",
    "ax12.yaxis.grid(True, which='minor')\n",
    "ax12.get_yticklabels(minor=True)[0].set_color('red')\n",
    "ax12.set_xlabel('Smokes')\n",
    "\n",
    "# drink frequency\n",
    "ax21.bar(vals_drp, heights_drp)\n",
    "oftens = [drinks_df['often']]\n",
    "ax21.set_yticks(oftens, minor=True)\n",
    "ax21.yaxis.set_minor_formatter(FormatStrFormatter(\"%d\"))\n",
    "ax21.yaxis.grid(True, which='minor')\n",
    "ax21.get_yticklabels(minor=True)[0].set_color('red')\n",
    "ax21.set_xlabel('Drinks')\n",
    "\n",
    "#drugs\n",
    "ax22.bar(vals_dg, heights_dg, width=0.4)\n",
    "ax22.set_ylim(0, 43500) \n",
    "ax22.set_xlabel('Drugs')\n",
    "\n",
    "fig.suptitle('Who is Using the Site?')"
   ]
  },
  {
   "cell_type": "code",
   "execution_count": 12,
   "id": "879e12c3",
   "metadata": {},
   "outputs": [],
   "source": [
    "df_income = df.income.value_counts()\n",
    "incs = df_income.index.values.tolist()\n",
    "inc_vals = df_income.tolist()\n",
    "incs_dict = dict(zip(incs, inc_vals))\n",
    "incsp = [x for x in sorted(incs_dict)]\n",
    "inc_valsp = [incs_dict[x] for x in sorted(incs_dict)]\n",
    "# print(incsp)\n",
    "# print(inc_valsp)\n",
    "incs_labels = []\n",
    "for inc in incsp:\n",
    "    x = str(inc)\n",
    "    if (len(x) < 3): incs_labels.append('No Answer')\n",
    "    elif ((len(x) >= 3) & (len(x) < 7)): incs_labels.append(x[:-3]+'K')\n",
    "    elif (len(x) >= 7): incs_labels.append(x[:-6]+'M')"
   ]
  },
  {
   "cell_type": "code",
   "execution_count": 13,
   "id": "7bdf4dca",
   "metadata": {},
   "outputs": [
    {
     "data": {
      "text/plain": [
       "Text(0, 0.5, 'Yearly Income in Dollars')"
      ]
     },
     "execution_count": 13,
     "metadata": {},
     "output_type": "execute_result"
    },
    {
     "data": {
      "image/png": "[encoded data removed]",
      "text/plain": [
       "<Figure size 432x288 with 1 Axes>"
      ]
     },
     "metadata": {
      "needs_background": "light"
     },
     "output_type": "display_data"
    }
   ],
   "source": [
    "plt.barh(range(len(incsp)), inc_valsp, zorder=3)\n",
    "plt.yticks(range(len(incsp)), labels=incs_labels)\n",
    "plt.tick_params(axis=\"x\", bottom=True, top=True, labelbottom=True, labeltop=True)\n",
    "plt.grid(True, zorder=0, which='both', axis='x', linestyle='--')\n",
    "plt.xscale('log')\n",
    "plt.title('How Much Money do Users Make?')\n",
    "plt.xlabel('Number of Users')\n",
    "plt.ylabel('Yearly Income in Dollars')"
   ]
  },
  {
   "cell_type": "code",
   "execution_count": 14,
   "id": "bedb980f",
   "metadata": {},
   "outputs": [],
   "source": [
    "religion_df = df.religion.value_counts()\n",
    "rels = religion_df.index.values.tolist()\n",
    "relsp = dict()\n",
    "for rel in rels:\n",
    "    x = rel.split()\n",
    "    if x[0] in relsp: relsp[x[0]] += religion_df[rel]\n",
    "    else: relsp[x[0]] = religion_df[rel]\n",
    "rev_dict = {v:k for (k,v) in relsp.items()}\n",
    "relspp, num_rels = [], []\n",
    "for i in sorted(rev_dict):\n",
    "    num_rels.append(i)\n",
    "    relspp.append(rev_dict[i])\n",
    "# print(relspp, num_rels)"
   ]
  },
  {
   "cell_type": "code",
   "execution_count": 15,
   "id": "f945cc71",
   "metadata": {},
   "outputs": [
    {
     "data": {
      "text/plain": [
       "Text(0, 0.5, 'Religious Identities')"
      ]
     },
     "execution_count": 15,
     "metadata": {},
     "output_type": "execute_result"
    },
    {
     "data": {
      "image/png": "[encoded data removed]",
      "text/plain": [
       "<Figure size 432x288 with 1 Axes>"
      ]
     },
     "metadata": {
      "needs_background": "light"
     },
     "output_type": "display_data"
    }
   ],
   "source": [
    "plt.barh(range(len(relspp)), num_rels, zorder=3)\n",
    "plt.yticks(range(len(relspp)), labels=relspp)\n",
    "plt.tick_params(axis=\"x\", bottom=True, top=True, labelbottom=True, labeltop=True)\n",
    "plt.grid(True, zorder=0, which='both', axis='x', linestyle='--')\n",
    "plt.xscale('log')\n",
    "plt.title('What is the Religious Profile of Users?')\n",
    "plt.xlabel('Number of Users')\n",
    "plt.ylabel('Religious Identities')"
   ]
  },
  {
   "cell_type": "code",
   "execution_count": 27,
   "id": "69481934",
   "metadata": {},
   "outputs": [],
   "source": [
    "loc_df = pd.DataFrame(df.location.value_counts()).reset_index()\n",
    "loc_df['state'] = loc_df.apply(lambda row: row.index, axis=1)\n",
    "# locs = loc_df.index.values.tolist()\n",
    "# locsp = dict()\n",
    "# for loc in locs:\n",
    "#     x = loc.split(',')\n",
    "#     loci = x[-1].strip(' ').title()\n",
    "#     if loci in locsp: \n",
    "#         locsp[loci] += loc_df.location[loc]\n",
    "#     else: locsp[loci] = loc_df.location[loc]\n",
    "# loc_dfp = pd.DataFrame(locsp)"
   ]
  },
  {
   "cell_type": "code",
   "execution_count": 29,
   "id": "0d82d4fa",
   "metadata": {},
   "outputs": [
    {
     "data": {
      "text/html": [
       "<div>\n",
       "<style scoped>\n",
       "    .dataframe tbody tr th:only-of-type {\n",
       "        vertical-align: middle;\n",
       "    }\n",
       "\n",
       "    .dataframe tbody tr th {\n",
       "        vertical-align: top;\n",
       "    }\n",
       "\n",
       "    .dataframe thead th {\n",
       "        text-align: right;\n",
       "    }\n",
       "</style>\n",
       "<table border=\"1\" class=\"dataframe\">\n",
       "  <thead>\n",
       "    <tr style=\"text-align: right;\">\n",
       "      <th></th>\n",
       "      <th>index</th>\n",
       "      <th>location</th>\n",
       "      <th>state</th>\n",
       "    </tr>\n",
       "  </thead>\n",
       "  <tbody>\n",
       "    <tr>\n",
       "      <th>0</th>\n",
       "      <td>san francisco, california</td>\n",
       "      <td>31064</td>\n",
       "      <td>Index(['index', 'location'], dtype='object')</td>\n",
       "    </tr>\n",
       "    <tr>\n",
       "      <th>1</th>\n",
       "      <td>oakland, california</td>\n",
       "      <td>7214</td>\n",
       "      <td>Index(['index', 'location'], dtype='object')</td>\n",
       "    </tr>\n",
       "    <tr>\n",
       "      <th>2</th>\n",
       "      <td>berkeley, california</td>\n",
       "      <td>4212</td>\n",
       "      <td>Index(['index', 'location'], dtype='object')</td>\n",
       "    </tr>\n",
       "    <tr>\n",
       "      <th>3</th>\n",
       "      <td>san mateo, california</td>\n",
       "      <td>1331</td>\n",
       "      <td>Index(['index', 'location'], dtype='object')</td>\n",
       "    </tr>\n",
       "    <tr>\n",
       "      <th>4</th>\n",
       "      <td>palo alto, california</td>\n",
       "      <td>1064</td>\n",
       "      <td>Index(['index', 'location'], dtype='object')</td>\n",
       "    </tr>\n",
       "  </tbody>\n",
       "</table>\n",
       "</div>"
      ],
      "text/plain": [
       "                       index  location  \\\n",
       "0  san francisco, california     31064   \n",
       "1        oakland, california      7214   \n",
       "2       berkeley, california      4212   \n",
       "3      san mateo, california      1331   \n",
       "4      palo alto, california      1064   \n",
       "\n",
       "                                          state  \n",
       "0  Index(['index', 'location'], dtype='object')  \n",
       "1  Index(['index', 'location'], dtype='object')  \n",
       "2  Index(['index', 'location'], dtype='object')  \n",
       "3  Index(['index', 'location'], dtype='object')  \n",
       "4  Index(['index', 'location'], dtype='object')  "
      ]
     },
     "execution_count": 29,
     "metadata": {},
     "output_type": "execute_result"
    }
   ],
   "source": [
    "loc_df.head()"
   ]
  },
  {
   "cell_type": "code",
   "execution_count": 18,
   "id": "1d9f1e48",
   "metadata": {},
   "outputs": [],
   "source": [
    "states_list = ['Alaska',\n",
    " 'Alabama',\n",
    " 'Arkansas',\n",
    " 'Arizona',\n",
    " 'California',\n",
    " 'Colorado',\n",
    " 'Connecticut',\n",
    " 'District of Columbia',\n",
    " 'Delaware',\n",
    " 'Florida',\n",
    " 'Georgia',\n",
    " 'Hawaii',\n",
    " 'Iowa',\n",
    " 'Idaho',\n",
    " 'Illinois',\n",
    " 'Indiana',\n",
    " 'Kansas',\n",
    " 'Kentucky',\n",
    " 'Louisiana',\n",
    " 'Massachusetts',\n",
    " 'Maryland',\n",
    " 'Maine',\n",
    " 'Michigan',\n",
    " 'Minnesota',\n",
    " 'Missouri',\n",
    " 'Mississippi',\n",
    " 'Montana',\n",
    " 'North Carolina',\n",
    " 'North Dakota',\n",
    " 'Nebraska',\n",
    " 'New Hampshire',\n",
    " 'New Jersey',\n",
    " 'New Mexico',\n",
    " 'Nevada',\n",
    " 'New York',\n",
    " 'Ohio',\n",
    " 'Oklahoma',\n",
    " 'Oregon',\n",
    " 'Pennsylvania',\n",
    " 'Rhode Island',\n",
    " 'South Carolina',\n",
    " 'South Dakota',\n",
    " 'Tennessee',\n",
    " 'Texas',\n",
    " 'Utah',\n",
    " 'Virginia',\n",
    " 'Vermont',\n",
    " 'Washington',\n",
    " 'Wisconsin',\n",
    " 'West Virginia',\n",
    " 'Wyoming']"
   ]
  },
  {
   "cell_type": "code",
   "execution_count": 19,
   "id": "5f8b9d77",
   "metadata": {},
   "outputs": [
    {
     "data": {
      "text/plain": [
       "51"
      ]
     },
     "execution_count": 19,
     "metadata": {},
     "output_type": "execute_result"
    }
   ],
   "source": [
    "len(states_list)"
   ]
  },
  {
   "cell_type": "code",
   "execution_count": 20,
   "id": "2e8fe50c",
   "metadata": {},
   "outputs": [],
   "source": [
    "#locspp = [loc.strip(' ').title() for loc in list(locsp.keys())]"
   ]
  },
  {
   "cell_type": "code",
   "execution_count": null,
   "id": "ed52bb89",
   "metadata": {},
   "outputs": [],
   "source": []
  },
  {
   "cell_type": "code",
   "execution_count": null,
   "id": "d76a21f5",
   "metadata": {},
   "outputs": [],
   "source": []
  }
 ],
 "metadata": {
  "kernelspec": {
   "display_name": "Python 3 (ipykernel)",
   "language": "python",
   "name": "python3"
  },
  "language_info": {
   "codemirror_mode": {
    "name": "ipython",
    "version": 3
   },
   "file_extension": ".py",
   "mimetype": "text/x-python",
   "name": "python",
   "nbconvert_exporter": "python",
   "pygments_lexer": "ipython3",
   "version": "3.9.9"
  }
 },
 "nbformat": 4,
 "nbformat_minor": 5
}
