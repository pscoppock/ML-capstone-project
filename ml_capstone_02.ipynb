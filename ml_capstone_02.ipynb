{
 "cells": [
  {
   "cell_type": "markdown",
   "id": "bdf36101",
   "metadata": {},
   "source": [
    "# Date-a-Scientist\n",
    "### _ML Capstone Project_\n",
    "***"
   ]
  },
  {
   "cell_type": "markdown",
   "id": "b5c3a3cf",
   "metadata": {},
   "source": [
    "An analysis of data from an online dating site, [OKCupid](https://www.okcupid.com/)."
   ]
  },
  {
   "cell_type": "code",
   "execution_count": 1,
   "id": "e1da8dea",
   "metadata": {},
   "outputs": [],
   "source": [
    "import pandas as pd\n",
    "from matplotlib import pyplot as plt"
   ]
  },
  {
   "cell_type": "markdown",
   "id": "1555d580",
   "metadata": {},
   "source": [
    "Get data"
   ]
  },
  {
   "cell_type": "code",
   "execution_count": 2,
   "id": "d9859ab9",
   "metadata": {},
   "outputs": [],
   "source": [
    "df = pd.read_csv('profiles.csv')\n",
    "columns = df.columns\n",
    "dtypes = df.dtypes"
   ]
  },
  {
   "cell_type": "code",
   "execution_count": 3,
   "id": "c886daaf",
   "metadata": {},
   "outputs": [
    {
     "data": {
      "text/plain": [
       "Index(['age', 'body_type', 'diet', 'drinks', 'drugs', 'education', 'essay0',\n",
       "       'essay1', 'essay2', 'essay3', 'essay4', 'essay5', 'essay6', 'essay7',\n",
       "       'essay8', 'essay9', 'ethnicity', 'height', 'income', 'job',\n",
       "       'last_online', 'location', 'offspring', 'orientation', 'pets',\n",
       "       'religion', 'sex', 'sign', 'smokes', 'speaks', 'status'],\n",
       "      dtype='object')"
      ]
     },
     "execution_count": 3,
     "metadata": {},
     "output_type": "execute_result"
    }
   ],
   "source": [
    "columns"
   ]
  },
  {
   "cell_type": "code",
   "execution_count": 4,
   "id": "b5c6dc9e",
   "metadata": {},
   "outputs": [],
   "source": [
    "# Let's make a PDF of columns and sample values.\n",
    "# lines = []\n",
    "# for column in columns:\n",
    "#     newline = ''\n",
    "#     newline = newline.join(column + '\\n')\n",
    "#     lines.append(newline)\n",
    "#     for each in list(df[column])[:5]:\n",
    "#         lines.append(str(each) + '\\n')\n",
    "#     lines.append('**********\\n')\n",
    "#     lines.append('\\n')\n",
    "# f = open('sample_answers.txt', 'w')\n",
    "# f.writelines(lines)\n",
    "# f.close()"
   ]
  },
  {
   "cell_type": "code",
   "execution_count": 7,
   "id": "0277e488",
   "metadata": {},
   "outputs": [
    {
     "data": {
      "text/plain": [
       "59946"
      ]
     },
     "execution_count": 7,
     "metadata": {},
     "output_type": "execute_result"
    }
   ],
   "source": [
    "len(df)"
   ]
  },
  {
   "cell_type": "code",
   "execution_count": 5,
   "id": "c2045014",
   "metadata": {},
   "outputs": [],
   "source": [
    "ages = df['age'].values.tolist()\n",
    "ages_unique = list(set(ages))\n",
    "ages_counts = []\n",
    "for age in ages_unique:\n",
    "    ages_counts.append(ages.count(age))\n",
    "\n",
    "X, y = ages_unique[:-2], ages_counts[:-2]"
   ]
  },
  {
   "cell_type": "code",
   "execution_count": 6,
   "id": "a981802c",
   "metadata": {},
   "outputs": [
    {
     "ename": "TypeError",
     "evalue": "'Figure' object is not callable",
     "output_type": "error",
     "traceback": [
      "\u001b[0;31m---------------------------------------------------------------------------\u001b[0m",
      "\u001b[0;31mTypeError\u001b[0m                                 Traceback (most recent call last)",
      "Input \u001b[0;32mIn [6]\u001b[0m, in \u001b[0;36m<cell line: 2>\u001b[0;34m()\u001b[0m\n\u001b[1;32m      1\u001b[0m fig, ((ax11, ax12), (ax21, ax22)) \u001b[38;5;241m=\u001b[39m plt\u001b[38;5;241m.\u001b[39msubplots(\u001b[38;5;241m2\u001b[39m,\u001b[38;5;241m2\u001b[39m)\n\u001b[0;32m----> 2\u001b[0m \u001b[43mfig\u001b[49m\u001b[43m(\u001b[49m\u001b[43mfigsize\u001b[49m\u001b[38;5;241;43m=\u001b[39;49m\u001b[43m(\u001b[49m\u001b[38;5;241;43m10\u001b[39;49m\u001b[43m,\u001b[49m\u001b[38;5;241;43m2\u001b[39;49m\u001b[43m)\u001b[49m\u001b[43m)\u001b[49m\n\u001b[1;32m      4\u001b[0m ax11\u001b[38;5;241m.\u001b[39mplot(X, y)\n\u001b[1;32m      5\u001b[0m minor_ticks11 \u001b[38;5;241m=\u001b[39m [\u001b[38;5;241m10\u001b[39m, \u001b[38;5;241m30\u001b[39m, \u001b[38;5;241m50\u001b[39m]\n",
      "\u001b[0;31mTypeError\u001b[0m: 'Figure' object is not callable"
     ]
    },
    {
     "data": {
      "image/png": "[encoded data removed]",
      "text/plain": [
       "<Figure size 432x288 with 4 Axes>"
      ]
     },
     "metadata": {
      "needs_background": "light"
     },
     "output_type": "display_data"
    }
   ],
   "source": [
    "fig, ((ax11, ax12), (ax21, ax22)) = plt.subplots(2,2)\n",
    "fig(figsize=(10,2))\n",
    "\n",
    "ax11.plot(X, y)\n",
    "minor_ticks11 = [10, 30, 50]\n",
    "ax11.set_xticks(minor_ticks11, minor=True)\n",
    "ax12.plot(X, y)\n",
    "ax21.plot(X, y)\n",
    "ax22.plot(X, y)"
   ]
  },
  {
   "cell_type": "code",
   "execution_count": null,
   "id": "779a063d",
   "metadata": {},
   "outputs": [],
   "source": []
  }
 ],
 "metadata": {
  "kernelspec": {
   "display_name": "Python 3 (ipykernel)",
   "language": "python",
   "name": "python3"
  },
  "language_info": {
   "codemirror_mode": {
    "name": "ipython",
    "version": 3
   },
   "file_extension": ".py",
   "mimetype": "text/x-python",
   "name": "python",
   "nbconvert_exporter": "python",
   "pygments_lexer": "ipython3",
   "version": "3.9.9"
  }
 },
 "nbformat": 4,
 "nbformat_minor": 5
}
