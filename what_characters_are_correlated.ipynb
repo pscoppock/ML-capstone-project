{
 "cells": [
  {
   "cell_type": "markdown",
   "id": "bdf36101",
   "metadata": {},
   "source": [
    "# Date-a-Scientist\n",
    "### _ML Capstone Project_\n",
    "***"
   ]
  },
  {
   "cell_type": "markdown",
   "id": "b5c3a3cf",
   "metadata": {},
   "source": [
    "An analysis of data from an online dating site, [OKCupid](https://www.okcupid.com/)."
   ]
  },
  {
   "cell_type": "code",
   "execution_count": 1,
   "id": "e1da8dea",
   "metadata": {},
   "outputs": [],
   "source": [
    "import pandas as pd\n",
    "import numpy as np\n",
    "from matplotlib import pyplot as plt"
   ]
  },
  {
   "cell_type": "markdown",
   "id": "1555d580",
   "metadata": {},
   "source": [
    "Get data"
   ]
  },
  {
   "cell_type": "code",
   "execution_count": 2,
   "id": "d9859ab9",
   "metadata": {},
   "outputs": [],
   "source": [
    "df = pd.read_csv('profiles.csv')\n",
    "columns = df.columns"
   ]
  },
  {
   "cell_type": "code",
   "execution_count": 3,
   "id": "0f3d8909",
   "metadata": {},
   "outputs": [],
   "source": [
    "sdg_correl = df[['smokes', 'drinks', 'drugs']].copy()\n",
    "sdg_correlp = df[['smokes', 'drinks', 'drugs']].copy()\n",
    "sdg_correlp.dropna(inplace=True)"
   ]
  },
  {
   "cell_type": "code",
   "execution_count": 4,
   "id": "49424580",
   "metadata": {},
   "outputs": [],
   "source": [
    "def is_smoker(smoke):\n",
    "    if smoke == 'no': return 0\n",
    "    else: return 1\n",
    "    \n",
    "def is_drinker(drink):\n",
    "    if drink == 'none': return 0\n",
    "    else: return 1\n",
    "\n",
    "def is_drugger(drug):\n",
    "    if drug == 'never': return 0\n",
    "    else: return 1"
   ]
  },
  {
   "cell_type": "code",
   "execution_count": 5,
   "id": "9ee43f96",
   "metadata": {},
   "outputs": [],
   "source": [
    "sdg_correl['smoker'] = sdg_correl['smokes'].apply(is_smoker)\n",
    "sdg_correl['drinker'] = sdg_correl['drinks'].apply(is_drinker)\n",
    "sdg_correl['drugger'] = sdg_correl['drugs'].apply(is_drugger)\n",
    "sdgp = sdg_correl[['smoker', 'drinker', 'drugger']]"
   ]
  },
  {
   "cell_type": "code",
   "execution_count": 6,
   "id": "e122b88c",
   "metadata": {},
   "outputs": [],
   "source": [
    "s, d, g = sdgp['smoker'].values, sdgp['drinker'].values, sdgp['drugger'].values"
   ]
  },
  {
   "cell_type": "code",
   "execution_count": 7,
   "id": "6c7936be",
   "metadata": {},
   "outputs": [],
   "source": [
    "sdgi = list(s*100 + d*10 + g)"
   ]
  },
  {
   "cell_type": "code",
   "execution_count": 8,
   "id": "79c5f8e7",
   "metadata": {},
   "outputs": [],
   "source": [
    "s, d, g, sd, sg, dg, sdg = [0]*7\n",
    "for each in sdgi:\n",
    "    num = str(each).zfill(3)\n",
    "    if num[0] == '1':\n",
    "        if num[1] == '1':\n",
    "            if num[2] == '1': sdg += 1\n",
    "            else: sd += 1\n",
    "        elif num[2] == '1': sg += 1\n",
    "        else: s += 1\n",
    "    elif num[1] == '1':\n",
    "        if num[2] == '1': dg += 1\n",
    "        else: d += 1\n",
    "    elif num[2] == '1': g += 1"
   ]
  },
  {
   "cell_type": "code",
   "execution_count": 9,
   "id": "389a579c",
   "metadata": {},
   "outputs": [],
   "source": [
    "from matplotlib_venn import venn3"
   ]
  },
  {
   "cell_type": "code",
   "execution_count": 10,
   "id": "892ac3da",
   "metadata": {},
   "outputs": [
    {
     "data": {
      "text/plain": [
       "Text(0.5, 0.98, 'How Many Users Smoke/ Drink/ Drug?')"
      ]
     },
     "execution_count": 10,
     "metadata": {},
     "output_type": "execute_result"
    },
    {
     "data": {
      "image/png": "[encoded data removed]",
      "text/plain": [
       "<Figure size 720x288 with 1 Axes>"
      ]
     },
     "metadata": {},
     "output_type": "display_data"
    }
   ],
   "source": [
    "fig, (ax1) = plt.subplots(1, 1, figsize=(10,4))\n",
    "\n",
    "ax1 = venn3(subsets=(s, \n",
    "               d, \n",
    "               sd, \n",
    "               g, \n",
    "               sg, \n",
    "               dg,\n",
    "               sdg), \n",
    "      set_labels=('Smokes', 'Drinks', 'Drugs'))\n",
    "\n",
    "plt.suptitle('How Many Users Smoke/ Drink/ Drug?')"
   ]
  },
  {
   "cell_type": "code",
   "execution_count": 11,
   "id": "b9fd4986",
   "metadata": {},
   "outputs": [],
   "source": [
    "dfp = df.dropna(subset=['orientation', 'drugs']).copy()\n",
    "# ori = dfp.orientation\n",
    "# dgs = dfp.drugs\n",
    "dfpp = dfp.groupby(['orientation', 'drugs']).size().reset_index()\n",
    "dfpp.columns = ['ori', 'dgs', 'num']"
   ]
  },
  {
   "cell_type": "code",
   "execution_count": 18,
   "id": "94910630",
   "metadata": {},
   "outputs": [],
   "source": [
    "lgb_dgs = dfpp.pivot(index='ori', columns='dgs', values='num').reset_index()"
   ]
  },
  {
   "cell_type": "code",
   "execution_count": 31,
   "id": "566f93a9",
   "metadata": {},
   "outputs": [
    {
     "data": {
      "text/html": [
       "<div>\n",
       "<style scoped>\n",
       "    .dataframe tbody tr th:only-of-type {\n",
       "        vertical-align: middle;\n",
       "    }\n",
       "\n",
       "    .dataframe tbody tr th {\n",
       "        vertical-align: top;\n",
       "    }\n",
       "\n",
       "    .dataframe thead th {\n",
       "        text-align: right;\n",
       "    }\n",
       "</style>\n",
       "<table border=\"1\" class=\"dataframe\">\n",
       "  <thead>\n",
       "    <tr style=\"text-align: right;\">\n",
       "      <th>dgs</th>\n",
       "      <th>ori</th>\n",
       "      <th>never</th>\n",
       "      <th>often</th>\n",
       "      <th>sometimes</th>\n",
       "    </tr>\n",
       "  </thead>\n",
       "  <tbody>\n",
       "    <tr>\n",
       "      <th>0</th>\n",
       "      <td>bisexual</td>\n",
       "      <td>1084</td>\n",
       "      <td>56</td>\n",
       "      <td>869</td>\n",
       "    </tr>\n",
       "    <tr>\n",
       "      <th>1</th>\n",
       "      <td>gay</td>\n",
       "      <td>3545</td>\n",
       "      <td>31</td>\n",
       "      <td>734</td>\n",
       "    </tr>\n",
       "    <tr>\n",
       "      <th>2</th>\n",
       "      <td>straight</td>\n",
       "      <td>33095</td>\n",
       "      <td>323</td>\n",
       "      <td>6129</td>\n",
       "    </tr>\n",
       "  </tbody>\n",
       "</table>\n",
       "</div>"
      ],
      "text/plain": [
       "dgs       ori  never  often  sometimes\n",
       "0    bisexual   1084     56        869\n",
       "1         gay   3545     31        734\n",
       "2    straight  33095    323       6129"
      ]
     },
     "execution_count": 31,
     "metadata": {},
     "output_type": "execute_result"
    }
   ],
   "source": [
    "lgb_dgs.head()"
   ]
  },
  {
   "cell_type": "code",
   "execution_count": null,
   "id": "5f9ca8e8",
   "metadata": {},
   "outputs": [],
   "source": [
    "import pandas as pd \n",
    "dataFrame = pd.DataFrame({\"Product\": [\"SmartTV\", \"ChromeCast\", \"Speaker\", \"Earphone\"], \"Opening_Stock\": [300, 700, 1200, 1500], \"Closing_Stock\": [200, 500, 1000, 900]}) \n",
    "dataFrame['Sum_Result'] = dataFrame.loc[0 : 1,[\"Opening_Stock\" , \"Closing_Stock\"]].sum(axis = 1) print\"\\nSumming some rows...\\n\","
   ]
  },
  {
   "cell_type": "code",
   "execution_count": 51,
   "id": "d5e8b43b",
   "metadata": {},
   "outputs": [],
   "source": [
    "bis = lgb_dgs.sum(axis=1, numeric_only=True)[0]\n",
    "gay = lgb_dgs.sum(axis=1, numeric_only=True)[1]\n",
    "st8 = lgb_dgs.sum(axis=1, numeric_only=True)[2]\n",
    "bis_0 = lgb_dgs.loc[0][1]\n",
    "gay_0 = lgb_dgs.loc[1][1]\n",
    "st8_0 = lgb_dgs.loc[2][1]\n",
    "bis_1 = bis - bis_0\n",
    "gay_1 = gay - gay_0\n",
    "st8_1 = st8 - st8_0"
   ]
  },
  {
   "cell_type": "code",
   "execution_count": 57,
   "id": "49bd9aed",
   "metadata": {},
   "outputs": [],
   "source": [
    "frac_bis, frac_gay, frac_st8 = bis_1 / bis * 100, gay_1 / gay * 100, st8_1 / st8 * 100"
   ]
  },
  {
   "cell_type": "code",
   "execution_count": 59,
   "id": "d36731c3",
   "metadata": {},
   "outputs": [
    {
     "data": {
      "text/plain": [
       "Text(0.5, 1.0, 'Is Drug Use Correlated with Sexual Orientation?')"
      ]
     },
     "execution_count": 59,
     "metadata": {},
     "output_type": "execute_result"
    },
    {
     "data": {
      "image/png": "[encoded data removed]",
      "text/plain": [
       "<Figure size 432x288 with 1 Axes>"
      ]
     },
     "metadata": {
      "needs_background": "light"
     },
     "output_type": "display_data"
    }
   ],
   "source": [
    "plt.bar(['Bisexual', 'Gay', 'Straight'],[frac_bis, frac_gay, frac_st8])\n",
    "plt.xlabel('Orientation')\n",
    "plt.ylabel('Percent Drug Users')\n",
    "plt.title('Is Drug Use Correlated with Sexual Orientation?')"
   ]
  },
  {
   "cell_type": "code",
   "execution_count": null,
   "id": "0cbdf702",
   "metadata": {},
   "outputs": [],
   "source": []
  }
 ],
 "metadata": {
  "kernelspec": {
   "display_name": "Python 3 (ipykernel)",
   "language": "python",
   "name": "python3"
  },
  "language_info": {
   "codemirror_mode": {
    "name": "ipython",
    "version": 3
   },
   "file_extension": ".py",
   "mimetype": "text/x-python",
   "name": "python",
   "nbconvert_exporter": "python",
   "pygments_lexer": "ipython3",
   "version": "3.9.9"
  }
 },
 "nbformat": 4,
 "nbformat_minor": 5
}
