{
 "cells": [
  {
   "cell_type": "markdown",
   "id": "bdf36101",
   "metadata": {},
   "source": [
    "# Date-a-Scientist\n",
    "### _ML Capstone Project_\n",
    "***"
   ]
  },
  {
   "cell_type": "markdown",
   "id": "b5c3a3cf",
   "metadata": {},
   "source": [
    "An analysis of data from an online dating site, [OKCupid](https://www.okcupid.com/)."
   ]
  },
  {
   "cell_type": "code",
   "execution_count": 11,
   "id": "e1da8dea",
   "metadata": {},
   "outputs": [],
   "source": [
    "import pandas as pd\n",
    "import numpy as np\n",
    "from matplotlib import pyplot as plt"
   ]
  },
  {
   "cell_type": "markdown",
   "id": "1555d580",
   "metadata": {},
   "source": [
    "Get data"
   ]
  },
  {
   "cell_type": "code",
   "execution_count": 12,
   "id": "d9859ab9",
   "metadata": {},
   "outputs": [],
   "source": [
    "df = pd.read_csv('profiles.csv')\n",
    "columns = df.columns"
   ]
  },
  {
   "cell_type": "code",
   "execution_count": 13,
   "id": "0f3d8909",
   "metadata": {},
   "outputs": [],
   "source": [
    "sdd_correl = df[['smokes', 'drinks', 'drugs']].copy()\n",
    "# Assume NaN in one of these categories means they are not completely abstinant\n",
    "# l = len(sdd_correl)\n",
    "# sdd_correl.dropna(inplace=True)\n",
    "# n = len(sdd_correl)\n",
    "# frac_answers = n / l * 100\n",
    "# print(frac_answers)"
   ]
  },
  {
   "cell_type": "code",
   "execution_count": 14,
   "id": "49424580",
   "metadata": {},
   "outputs": [],
   "source": [
    "def is_smoker(smoke):\n",
    "    if smoke == 'no': return 0\n",
    "    else: return 1\n",
    "    \n",
    "def is_drinker(drink):\n",
    "    if drink == 'none': return 0\n",
    "    else: return 1\n",
    "\n",
    "def is_drugger(drug):\n",
    "    if drug == 'never': return 0\n",
    "    else: return 1"
   ]
  },
  {
   "cell_type": "code",
   "execution_count": 15,
   "id": "9ee43f96",
   "metadata": {},
   "outputs": [
    {
     "data": {
      "text/html": [
       "<div>\n",
       "<style scoped>\n",
       "    .dataframe tbody tr th:only-of-type {\n",
       "        vertical-align: middle;\n",
       "    }\n",
       "\n",
       "    .dataframe tbody tr th {\n",
       "        vertical-align: top;\n",
       "    }\n",
       "\n",
       "    .dataframe thead th {\n",
       "        text-align: right;\n",
       "    }\n",
       "</style>\n",
       "<table border=\"1\" class=\"dataframe\">\n",
       "  <thead>\n",
       "    <tr style=\"text-align: right;\">\n",
       "      <th></th>\n",
       "      <th>smoker</th>\n",
       "      <th>drinker</th>\n",
       "      <th>drugger</th>\n",
       "    </tr>\n",
       "  </thead>\n",
       "  <tbody>\n",
       "    <tr>\n",
       "      <th>0</th>\n",
       "      <td>1</td>\n",
       "      <td>1</td>\n",
       "      <td>0</td>\n",
       "    </tr>\n",
       "    <tr>\n",
       "      <th>1</th>\n",
       "      <td>0</td>\n",
       "      <td>1</td>\n",
       "      <td>1</td>\n",
       "    </tr>\n",
       "    <tr>\n",
       "      <th>2</th>\n",
       "      <td>0</td>\n",
       "      <td>1</td>\n",
       "      <td>1</td>\n",
       "    </tr>\n",
       "    <tr>\n",
       "      <th>3</th>\n",
       "      <td>0</td>\n",
       "      <td>1</td>\n",
       "      <td>1</td>\n",
       "    </tr>\n",
       "    <tr>\n",
       "      <th>4</th>\n",
       "      <td>0</td>\n",
       "      <td>1</td>\n",
       "      <td>0</td>\n",
       "    </tr>\n",
       "  </tbody>\n",
       "</table>\n",
       "</div>"
      ],
      "text/plain": [
       "   smoker  drinker  drugger\n",
       "0       1        1        0\n",
       "1       0        1        1\n",
       "2       0        1        1\n",
       "3       0        1        1\n",
       "4       0        1        0"
      ]
     },
     "execution_count": 15,
     "metadata": {},
     "output_type": "execute_result"
    }
   ],
   "source": [
    "sdd_correl['smoker'] = sdd_correl['smokes'].apply(is_smoker)\n",
    "sdd_correl['drinker'] = sdd_correl['drinks'].apply(is_drinker)\n",
    "sdd_correl['drugger'] = sdd_correl['drugs'].apply(is_drugger)\n",
    "sddp = sdd_correl[['smoker', 'drinker', 'drugger']]\n",
    "sddp.head()"
   ]
  },
  {
   "cell_type": "code",
   "execution_count": 16,
   "id": "e122b88c",
   "metadata": {},
   "outputs": [],
   "source": [
    "s, d, g = sddp['smoker'].values, sddp['drinker'].values, sddp['drugger'].values"
   ]
  },
  {
   "cell_type": "code",
   "execution_count": 17,
   "id": "6c7936be",
   "metadata": {},
   "outputs": [],
   "source": [
    "sdgi = list(s*100 + d*10 + g)"
   ]
  },
  {
   "cell_type": "code",
   "execution_count": 35,
   "id": "79c5f8e7",
   "metadata": {},
   "outputs": [
    {
     "name": "stdout",
     "output_type": "stream",
     "text": [
      "0 31114 0 6610 0 12782 9440\n"
     ]
    }
   ],
   "source": [
    "s, d, g, sd, sg, dg, sdg = [0]*7\n",
    "for each in sdgi:\n",
    "    num = str(each).zfill(3)\n",
    "    if num[0] == '1':\n",
    "        if num[1] == '1':\n",
    "            if num[2] == '1': sdg += 1\n",
    "            else: sd += 1\n",
    "        elif num[2] == '1': sg += 1\n",
    "        else: s += 1\n",
    "    elif num[1] == '1':\n",
    "        if num[2] == '1': dg += 1\n",
    "        else: d += 1\n",
    "    elif num[2] == '1': g += 1\n",
    "\n",
    "print(s, d, g, sd, sg, dg, sdg)"
   ]
  },
  {
   "cell_type": "code",
   "execution_count": 42,
   "id": "52721033",
   "metadata": {},
   "outputs": [],
   "source": [
    "s, d, g, sd, sg, dg, sdg = 0, 31114, 6610, 0, 0, 12782, 9440"
   ]
  },
  {
   "cell_type": "code",
   "execution_count": 43,
   "id": "389a579c",
   "metadata": {},
   "outputs": [],
   "source": [
    "from matplotlib_venn import venn3"
   ]
  },
  {
   "cell_type": "code",
   "execution_count": 44,
   "id": "76d9c740",
   "metadata": {},
   "outputs": [
    {
     "data": {
      "text/plain": [
       "<matplotlib_venn._common.VennDiagram at 0x11c3c1af0>"
      ]
     },
     "execution_count": 44,
     "metadata": {},
     "output_type": "execute_result"
    },
    {
     "data": {
      "image/png": "[encoded data removed]",
      "text/plain": [
       "<Figure size 432x288 with 1 Axes>"
      ]
     },
     "metadata": {},
     "output_type": "display_data"
    }
   ],
   "source": [
    "venn3(subsets=(s, \n",
    "               d, \n",
    "               g, \n",
    "               sd, \n",
    "               sg, \n",
    "               dg,\n",
    "               sdg), \n",
    "      set_labels=('Smokes', 'Drinks', 'Drugs'))"
   ]
  },
  {
   "cell_type": "code",
   "execution_count": null,
   "id": "ba0e286a",
   "metadata": {},
   "outputs": [],
   "source": []
  }
 ],
 "metadata": {
  "kernelspec": {
   "display_name": "Python 3 (ipykernel)",
   "language": "python",
   "name": "python3"
  },
  "language_info": {
   "codemirror_mode": {
    "name": "ipython",
    "version": 3
   },
   "file_extension": ".py",
   "mimetype": "text/x-python",
   "name": "python",
   "nbconvert_exporter": "python",
   "pygments_lexer": "ipython3",
   "version": "3.9.9"
  }
 },
 "nbformat": 4,
 "nbformat_minor": 5
}
