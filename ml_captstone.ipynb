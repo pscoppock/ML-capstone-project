{
 "cells": [
  {
   "cell_type": "markdown",
   "id": "bdf36101",
   "metadata": {},
   "source": [
    "# Date-a-Scientist\n",
    "### _Codecademy Capstone Project_\n",
    "***"
   ]
  },
  {
   "cell_type": "markdown",
   "id": "b5c3a3cf",
   "metadata": {},
   "source": [
    "An analysis of data from an online dating site, [OKCupid](https://www.okcupid.com/)."
   ]
  },
  {
   "cell_type": "code",
   "execution_count": 1,
   "id": "e1da8dea",
   "metadata": {},
   "outputs": [],
   "source": [
    "import pandas as pd\n"
   ]
  },
  {
   "cell_type": "markdown",
   "id": "1555d580",
   "metadata": {},
   "source": [
    "Get data"
   ]
  },
  {
   "cell_type": "code",
   "execution_count": 2,
   "id": "d9859ab9",
   "metadata": {},
   "outputs": [],
   "source": [
    "df = pd.read_csv('profiles.csv')\n",
    "columns = df.columns\n",
    "dtypes = df.dtypes"
   ]
  },
  {
   "cell_type": "code",
   "execution_count": 3,
   "id": "c886daaf",
   "metadata": {},
   "outputs": [
    {
     "data": {
      "text/plain": [
       "Index(['age', 'body_type', 'diet', 'drinks', 'drugs', 'education', 'essay0',\n",
       "       'essay1', 'essay2', 'essay3', 'essay4', 'essay5', 'essay6', 'essay7',\n",
       "       'essay8', 'essay9', 'ethnicity', 'height', 'income', 'job',\n",
       "       'last_online', 'location', 'offspring', 'orientation', 'pets',\n",
       "       'religion', 'sex', 'sign', 'smokes', 'speaks', 'status'],\n",
       "      dtype='object')"
      ]
     },
     "execution_count": 3,
     "metadata": {},
     "output_type": "execute_result"
    }
   ],
   "source": [
    "columns"
   ]
  },
  {
   "cell_type": "markdown",
   "id": "3246cc74",
   "metadata": {},
   "source": [
    "Go through columns.  Make lists of values, and make dfs dropping NaN from columns"
   ]
  },
  {
   "cell_type": "code",
   "execution_count": 4,
   "id": "6a164777",
   "metadata": {},
   "outputs": [],
   "source": [
    "body_type = df.body_type.unique()\n",
    "body_type_str = [x for x in body_type if type(x) == type('string')]\n",
    "df_body_type = df.loc[df['body_type'].isin(body_type_str)] # Dropping NaN body_type\n",
    "# df_body_type.head()"
   ]
  },
  {
   "cell_type": "code",
   "execution_count": 5,
   "id": "f27773d5",
   "metadata": {},
   "outputs": [],
   "source": [
    "diet = df.diet.unique()\n",
    "diet_str = [x for x in diet if type(x) == type('string')]\n",
    "df_diet = df.loc[df['diet'].isin(diet_str)] # Dropping NaN diet"
   ]
  },
  {
   "cell_type": "code",
   "execution_count": 6,
   "id": "702936a6",
   "metadata": {},
   "outputs": [],
   "source": [
    "drinks = df.drinks.unique()\n",
    "drinks_str = [x for x in drinks if type(x) == type('string')]\n",
    "df_drinks = df.loc[df['drinks'].isin(drinks_str)].copy() # Dropping NaN drinks\n",
    "#df_drinks.head()"
   ]
  },
  {
   "cell_type": "markdown",
   "id": "aa0664e6",
   "metadata": {},
   "source": [
    "'drinks' is rankable.  Rank."
   ]
  },
  {
   "cell_type": "code",
   "execution_count": 7,
   "id": "5c82ceb9",
   "metadata": {},
   "outputs": [],
   "source": [
    "drinks_num_dict = dict(zip(drinks_str, [2,3,0,1,4,5]))\n",
    "df_drinks.replace({'drinks': drinks_num_dict}, inplace=True)"
   ]
  },
  {
   "cell_type": "code",
   "execution_count": 8,
   "id": "d7316cdd",
   "metadata": {},
   "outputs": [],
   "source": [
    "drugs = df.drugs.unique()\n",
    "drugs_str = [x for x in drugs if type(x) == type('string')]\n",
    "df_drugs = df.loc[df['drugs'].isin(drugs_str)].copy() # Dropping NaN drugs\n",
    "#df_drugs.head()"
   ]
  },
  {
   "cell_type": "markdown",
   "id": "02c587b6",
   "metadata": {},
   "source": [
    "'drugs' is rankable.  Rank."
   ]
  },
  {
   "cell_type": "code",
   "execution_count": 9,
   "id": "18b29f53",
   "metadata": {},
   "outputs": [],
   "source": [
    "drugs_num_dict = dict(zip(drugs_str, [0,1,2]))\n",
    "df_drugs.replace({'drugs': drugs_num_dict}, inplace=True)"
   ]
  },
  {
   "cell_type": "code",
   "execution_count": 13,
   "id": "e1eeb0f6",
   "metadata": {},
   "outputs": [],
   "source": [
    "edu = df.education.unique()\n",
    "edu_str = [x for x in edu if type(x) == type('string')]\n",
    "df_edu = df.loc[df['education'].isin(edu_str)].copy() # Dropping NaN edu"
   ]
  },
  {
   "cell_type": "code",
   "execution_count": 21,
   "id": "077d324c",
   "metadata": {},
   "outputs": [],
   "source": [
    "eth = df.ethnicity.unique()\n",
    "eth_str = [x for x in eth if type(x) == type('string')]\n",
    "df_eth = df.loc[df['ethnicity'].isin(eth_str)].copy() # Dropping NaN edu"
   ]
  },
  {
   "cell_type": "code",
   "execution_count": null,
   "id": "97f16efb",
   "metadata": {},
   "outputs": [],
   "source": []
  }
 ],
 "metadata": {
  "kernelspec": {
   "display_name": "Python 3 (ipykernel)",
   "language": "python",
   "name": "python3"
  },
  "language_info": {
   "codemirror_mode": {
    "name": "ipython",
    "version": 3
   },
   "file_extension": ".py",
   "mimetype": "text/x-python",
   "name": "python",
   "nbconvert_exporter": "python",
   "pygments_lexer": "ipython3",
   "version": "3.9.9"
  }
 },
 "nbformat": 4,
 "nbformat_minor": 5
}
